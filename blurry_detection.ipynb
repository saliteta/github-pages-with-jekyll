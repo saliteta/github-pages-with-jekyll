{
  "nbformat": 4,
  "nbformat_minor": 0,
  "metadata": {
    "colab": {
      "name": "blurry_detection.ipynb",
      "provenance": [],
      "collapsed_sections": [],
      "authorship_tag": "ABX9TyMVyt+fn1bzEBZ7KBzOCZ4j",
      "include_colab_link": true
    },
    "kernelspec": {
      "name": "python3",
      "display_name": "Python 3"
    },
    "language_info": {
      "name": "python"
    }
  },
  "cells": [
    {
      "cell_type": "markdown",
      "metadata": {
        "id": "view-in-github",
        "colab_type": "text"
      },
      "source": [
        "<a href=\"https://colab.research.google.com/github/saliteta/github-pages-with-jekyll/blob/main/blurry_detection.ipynb\" target=\"_parent\"><img src=\"https://colab.research.google.com/assets/colab-badge.svg\" alt=\"Open In Colab\"/></a>"
      ]
    },
    {
      "cell_type": "code",
      "source": [
        "from google.colab import drive\n",
        "drive.mount('/content/drive/')\n",
        "images_path = \"/content/drive/MyDrive/final_csc4080/images/train\""
      ],
      "metadata": {
        "colab": {
          "base_uri": "https://localhost:8080/"
        },
        "id": "WX-x4ACs2hDW",
        "outputId": "d5930f8d-fe1d-4e1e-ea54-4613f6a16483"
      },
      "execution_count": null,
      "outputs": [
        {
          "output_type": "stream",
          "name": "stdout",
          "text": [
            "Mounted at /content/drive/\n"
          ]
        }
      ]
    },
    {
      "cell_type": "markdown",
      "source": [
        "# Blurry Algorithm\n",
        "- using one images as an example\n",
        "- 3 method: SMD, SMD2, energy gradient\n",
        "- SMD is the simplest one\n",
        "- the time complexity of SMD2 and energy gradient are almost the same\n",
        "- input is one cv2 bgr image, output will be the corresponding value of cv2 gray scale image  "
      ],
      "metadata": {
        "id": "wU_JPV6P1GSo"
      }
    },
    {
      "cell_type": "markdown",
      "source": [
        "- how to measure the blurry"
      ],
      "metadata": {
        "id": "4k-aOh_V5E8F"
      }
    },
    {
      "cell_type": "code",
      "source": [
        "import numpy as np\n",
        "from numpy import random\n",
        "import cv2\n",
        "\n",
        "img = cv2.imread(images_path + \"/5e59c7fdb16c4228_26124.jpg\")\n",
        "\n",
        "def getdxdy(array):\n",
        "  size = array.shape\n",
        "  brakets = (np.zeros(size[0]))\n",
        "  temp_x_1 = np.c_[array,brakets]\n",
        "  temp_x_2 = np.c_[brakets, array]\n",
        "  brakets = np.zeros(size[1])\n",
        "  temp_y_1 = np.r_[array, [brakets]]\n",
        "  temp_y_2 = np.r_[[brakets], array]\n",
        "  returnvalue1 = np.abs(temp_x_1-temp_x_2)\n",
        "  returnvalue2 = np.abs(temp_y_1-temp_y_2)\n",
        "  return returnvalue1[0:size[0], 0:size[1]] , returnvalue2[:size[0], :size[1]]\n",
        "\n",
        "def get_gray_nparray(image):\n",
        "  gray = cv2.cvtColor(image, cv2.COLOR_BGR2GRAY)\n",
        "  gray = np.asarray(gray)\n",
        "  return gray\n",
        "\n",
        "def SMD(image):\n",
        "  gray = get_gray_nparray(image)\n",
        "  gdx, gdy = getdxdy(gray)\n",
        "  returnvalue = (gdx+gdy).mean()\n",
        "  return returnvalue\n",
        "\n",
        "def SMD2(image):\n",
        "  gray = get_gray_nparray(image)\n",
        "  gdx, gdy = getdxdy(gray)\n",
        "  returnvalue = (gdx*gdy).mean()\n",
        "  return returnvalue\n",
        "\n",
        "def energy_gradient(image):\n",
        "  gray = get_gray_nparray(image)\n",
        "  gdx, gdy = getdxdy(gray)\n",
        "  returnvalue = (gdx*gdx + gdy*gdy).mean()\n",
        "  return returnvalue\n",
        " \n"
      ],
      "metadata": {
        "colab": {
          "base_uri": "https://localhost:8080/"
        },
        "id": "eu97jxJm5EBO",
        "outputId": "7e056a5e-8e5d-4155-9501-7e36e8087e59"
      },
      "execution_count": null,
      "outputs": [
        {
          "output_type": "stream",
          "name": "stdout",
          "text": [
            "719.4299266581633\n"
          ]
        }
      ]
    }
  ]
}